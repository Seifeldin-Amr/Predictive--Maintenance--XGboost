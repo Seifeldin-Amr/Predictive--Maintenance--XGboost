{
 "cells": [
  {
   "cell_type": "code",
   "execution_count": 2,
   "metadata": {
    "_cell_guid": "b1076dfc-b9ad-4769-8c92-a6c4dae69d19",
    "_kg_hide-input": true,
    "_kg_hide-output": true,
    "_uuid": "8f2839f25d086af736a60e9eeb907d3b93b6e0e5",
    "execution": {
     "iopub.execute_input": "2025-10-08T12:47:31.093305Z",
     "iopub.status.busy": "2025-10-08T12:47:31.092950Z",
     "iopub.status.idle": "2025-10-08T12:47:31.743778Z",
     "shell.execute_reply": "2025-10-08T12:47:31.742462Z",
     "shell.execute_reply.started": "2025-10-08T12:47:31.093278Z"
    },
    "trusted": true
   },
   "outputs": [
    {
     "name": "stdout",
     "output_type": "stream",
     "text": [
      "/kaggle/input/predictive-maintenance-dataset/predictive_maintenance_dataset.csv\n",
      "/kaggle/input/predictive-maintenance/test_label_sample.csv\n",
      "/kaggle/input/predictive-maintenance/feature.xlsx\n",
      "/kaggle/input/predictive-maintenance/train_label.csv\n",
      "/kaggle/input/machine-predictive-maintenance-classification/predictive_maintenance.csv\n",
      "/kaggle/input/predictive-maintenance-dataset-ai4i-2020/ai4i2020.csv\n",
      "/kaggle/input/machine-failure-prediction-using-sensor-data/data.csv\n",
      "/kaggle/input/predictive-maintenance-of-machines/CIA-1 Dataset - Dataset (1).csv\n",
      "/kaggle/input/condition-monitoring-of-hydraulic-systems/description.txt\n",
      "/kaggle/input/condition-monitoring-of-hydraulic-systems/profile.txt\n",
      "/kaggle/input/condition-monitoring-of-hydraulic-systems/SE.txt\n",
      "/kaggle/input/condition-monitoring-of-hydraulic-systems/FS1.txt\n",
      "/kaggle/input/condition-monitoring-of-hydraulic-systems/CP.txt\n",
      "/kaggle/input/condition-monitoring-of-hydraulic-systems/PS3.txt\n",
      "/kaggle/input/condition-monitoring-of-hydraulic-systems/EPS1.txt\n",
      "/kaggle/input/condition-monitoring-of-hydraulic-systems/PS6.txt\n",
      "/kaggle/input/condition-monitoring-of-hydraulic-systems/TS2.txt\n",
      "/kaggle/input/condition-monitoring-of-hydraulic-systems/PS1.txt\n",
      "/kaggle/input/condition-monitoring-of-hydraulic-systems/PS4.txt\n",
      "/kaggle/input/condition-monitoring-of-hydraulic-systems/TS1.txt\n",
      "/kaggle/input/condition-monitoring-of-hydraulic-systems/VS1.txt\n",
      "/kaggle/input/condition-monitoring-of-hydraulic-systems/FS2.txt\n",
      "/kaggle/input/condition-monitoring-of-hydraulic-systems/PS2.txt\n",
      "/kaggle/input/condition-monitoring-of-hydraulic-systems/TS4.txt\n",
      "/kaggle/input/condition-monitoring-of-hydraulic-systems/documentation.txt\n",
      "/kaggle/input/condition-monitoring-of-hydraulic-systems/PS5.txt\n",
      "/kaggle/input/condition-monitoring-of-hydraulic-systems/CE.txt\n",
      "/kaggle/input/condition-monitoring-of-hydraulic-systems/TS3.txt\n",
      "/kaggle/input/pred-maintanance-data/PM_test.txt\n",
      "/kaggle/input/pred-maintanance-data/PM_train.txt\n",
      "/kaggle/input/pred-maintanance-data/PM_truth.txt\n",
      "/kaggle/input/improving-naval-vessel-condition-through-machine/data.csv\n",
      "/kaggle/input/d/angevalli/predictive-maintenance-dataset/Dataset_2.1.csv\n",
      "/kaggle/input/d/angevalli/predictive-maintenance-dataset/data_pizza_robot.csv\n",
      "/kaggle/input/d/angevalli/predictive-maintenance-dataset/Dataset_3.2.h5\n",
      "/kaggle/input/d/angevalli/predictive-maintenance-dataset/Dataset_4.1.h5\n",
      "/kaggle/input/d/abdelazizsami/predictive-maintenance-dataset/ai 2020.csv\n",
      "/kaggle/input/d/rashaali2003/predictive-maintenance/predictive_maintenance.csv\n",
      "/kaggle/input/predictive-maintenance-equipment-dataset-for-ml/PM Data Testing.xlsx\n",
      "/kaggle/input/predictive-maintenance-equipment-dataset-for-ml/PM DATA Training.xlsx\n",
      "/kaggle/input/dataset-for-predictive-maintenance/PM_test.txt\n",
      "/kaggle/input/dataset-for-predictive-maintenance/PM_train.txt\n",
      "/kaggle/input/dataset-for-predictive-maintenance/PM_truth.txt\n",
      "/kaggle/input/predictive-maintenance-dataset-air-compressor/11.png\n",
      "/kaggle/input/predictive-maintenance-dataset-air-compressor/4.png\n",
      "/kaggle/input/predictive-maintenance-dataset-air-compressor/9.png\n",
      "/kaggle/input/predictive-maintenance-dataset-air-compressor/14.png\n",
      "/kaggle/input/predictive-maintenance-dataset-air-compressor/1.png\n",
      "/kaggle/input/predictive-maintenance-dataset-air-compressor/20.png\n",
      "/kaggle/input/predictive-maintenance-dataset-air-compressor/2.png\n",
      "/kaggle/input/predictive-maintenance-dataset-air-compressor/10.png\n",
      "/kaggle/input/predictive-maintenance-dataset-air-compressor/18.png\n",
      "/kaggle/input/predictive-maintenance-dataset-air-compressor/21.png\n",
      "/kaggle/input/predictive-maintenance-dataset-air-compressor/12.png\n",
      "/kaggle/input/predictive-maintenance-dataset-air-compressor/22.png\n",
      "/kaggle/input/predictive-maintenance-dataset-air-compressor/maintenance.py\n",
      "/kaggle/input/predictive-maintenance-dataset-air-compressor/7.png\n",
      "/kaggle/input/predictive-maintenance-dataset-air-compressor/17.png\n",
      "/kaggle/input/predictive-maintenance-dataset-air-compressor/5.png\n",
      "/kaggle/input/predictive-maintenance-dataset-air-compressor/3.png\n",
      "/kaggle/input/predictive-maintenance-dataset-air-compressor/16.png\n",
      "/kaggle/input/predictive-maintenance-dataset-air-compressor/8.png\n",
      "/kaggle/input/predictive-maintenance-dataset-air-compressor/6.png\n",
      "/kaggle/input/predictive-maintenance-dataset-air-compressor/23.png\n",
      "/kaggle/input/predictive-maintenance-dataset-air-compressor/data.csv\n",
      "/kaggle/input/predictive-maintenance-dataset-air-compressor/15.png\n",
      "/kaggle/input/predictive-maintenance-dataset-air-compressor/13.png\n",
      "/kaggle/input/predictive-maintenance-dataset-air-compressor/19.png\n",
      "/kaggle/input/preventive-to-predicitve-maintenance/Particle size distribution_ISO_12103_1_A2_Fine.mat\n",
      "/kaggle/input/preventive-to-predicitve-maintenance/Particle size distribution_ISO_12103_1_A4_Coarse.mat\n",
      "/kaggle/input/preventive-to-predicitve-maintenance/Train_Data_CSV.csv\n",
      "/kaggle/input/preventive-to-predicitve-maintenance/Particle size distribution_ISO_12103_1_A3_Medium.mat\n",
      "/kaggle/input/preventive-to-predicitve-maintenance/Data.mat\n",
      "/kaggle/input/preventive-to-predicitve-maintenance/Train_Data_Uncensored.mat\n",
      "/kaggle/input/preventive-to-predicitve-maintenance/Preventive to Predictive Maintenance dataset.pdf\n",
      "/kaggle/input/preventive-to-predicitve-maintenance/Test_Data_CSV.csv\n"
     ]
    }
   ],
   "source": [
    "# This Python 3 environment comes with many helpful analytics libraries installed\n",
    "# It is defined by the kaggle/python Docker image: https://github.com/kaggle/docker-python\n",
    "# For example, here's several helpful packages to load\n",
    "\n",
    "import numpy as np # linear algebra\n",
    "import pandas as pd # data processing, CSV file I/O (e.g. pd.read_csv)\n",
    "\n",
    "# Input data files are available in the read-only \"../input/\" directory\n",
    "# For example, running this (by clicking run or pressing Shift+Enter) will list all files under the input directory\n",
    "\n",
    "import os\n",
    "for dirname, _, filenames in os.walk('/kaggle/input'):\n",
    "    for filename in filenames:\n",
    "        print(os.path.join(dirname, filename))\n",
    "\n",
    "# You can write up to 20GB to the current directory (/kaggle/working/) that gets preserved as output when you create a version using \"Save & Run All\" \n",
    "# You can also write temporary files to /kaggle/temp/, but they won't be saved outside of the current session"
   ]
  },
  {
   "cell_type": "code",
   "execution_count": 3,
   "metadata": {
    "execution": {
     "iopub.execute_input": "2025-10-08T12:47:34.351550Z",
     "iopub.status.busy": "2025-10-08T12:47:34.351070Z",
     "iopub.status.idle": "2025-10-08T12:47:34.399360Z",
     "shell.execute_reply": "2025-10-08T12:47:34.398252Z",
     "shell.execute_reply.started": "2025-10-08T12:47:34.351522Z"
    },
    "trusted": true
   },
   "outputs": [],
   "source": [
    "df=pd.read_csv(\"/kaggle/input/predictive-maintenance-dataset-ai4i-2020/ai4i2020.csv\")"
   ]
  },
  {
   "cell_type": "code",
   "execution_count": null,
   "metadata": {
    "execution": {
     "iopub.execute_input": "2025-05-22T20:36:10.355927Z",
     "iopub.status.busy": "2025-05-22T20:36:10.355612Z",
     "iopub.status.idle": "2025-05-22T20:36:10.396252Z",
     "shell.execute_reply": "2025-05-22T20:36:10.395036Z",
     "shell.execute_reply.started": "2025-05-22T20:36:10.355898Z"
    },
    "trusted": true
   },
   "outputs": [],
   "source": [
    "# Displaying dataset to understand the structure\n",
    "df"
   ]
  },
  {
   "cell_type": "code",
   "execution_count": null,
   "metadata": {
    "execution": {
     "iopub.execute_input": "2025-05-22T20:36:10.399064Z",
     "iopub.status.busy": "2025-05-22T20:36:10.39876Z",
     "iopub.status.idle": "2025-05-22T20:36:10.403403Z",
     "shell.execute_reply": "2025-05-22T20:36:10.402272Z",
     "shell.execute_reply.started": "2025-05-22T20:36:10.399038Z"
    },
    "trusted": true
   },
   "outputs": [],
   "source": [
    "import warnings\n",
    "\n",
    "# Ignore all warnings\n",
    "warnings.filterwarnings(\"ignore\")"
   ]
  },
  {
   "cell_type": "code",
   "execution_count": null,
   "metadata": {
    "execution": {
     "iopub.execute_input": "2025-05-22T20:36:10.405852Z",
     "iopub.status.busy": "2025-05-22T20:36:10.405539Z",
     "iopub.status.idle": "2025-05-22T20:36:10.432556Z",
     "shell.execute_reply": "2025-05-22T20:36:10.431438Z",
     "shell.execute_reply.started": "2025-05-22T20:36:10.405824Z"
    },
    "trusted": true
   },
   "outputs": [],
   "source": [
    "df[df[\"Machine failure\"]==1]"
   ]
  },
  {
   "cell_type": "markdown",
   "metadata": {},
   "source": [
    "<h3 style = \"background-color: #000033;\n",
    "             padding: 15px;\n",
    "             font: bold 32px arial;\n",
    "             color: #ccebff;\n",
    "             border: 2px #e6e6ff;\n",
    "             border-radius: 8px\">\n",
    "DATA PREPROCESSING</h3>"
   ]
  },
  {
   "cell_type": "code",
   "execution_count": null,
   "metadata": {
    "execution": {
     "iopub.execute_input": "2025-10-07T13:40:20.375088Z",
     "iopub.status.busy": "2025-10-07T13:40:20.374765Z",
     "iopub.status.idle": "2025-10-07T13:40:20.405770Z",
     "shell.execute_reply": "2025-10-07T13:40:20.404749Z",
     "shell.execute_reply.started": "2025-10-07T13:40:20.375063Z"
    },
    "trusted": true
   },
   "outputs": [],
   "source": [
    "df.info()"
   ]
  },
  {
   "cell_type": "code",
   "execution_count": null,
   "metadata": {
    "execution": {
     "iopub.execute_input": "2025-05-22T20:36:10.470555Z",
     "iopub.status.busy": "2025-05-22T20:36:10.470277Z",
     "iopub.status.idle": "2025-05-22T20:36:10.474919Z",
     "shell.execute_reply": "2025-05-22T20:36:10.473626Z",
     "shell.execute_reply.started": "2025-05-22T20:36:10.470531Z"
    },
    "trusted": true
   },
   "outputs": [],
   "source": [
    "# Checking for null values and duplicates"
   ]
  },
  {
   "cell_type": "code",
   "execution_count": 4,
   "metadata": {
    "execution": {
     "iopub.execute_input": "2025-10-08T12:47:42.796780Z",
     "iopub.status.busy": "2025-10-08T12:47:42.796396Z",
     "iopub.status.idle": "2025-10-08T12:47:42.815776Z",
     "shell.execute_reply": "2025-10-08T12:47:42.814239Z",
     "shell.execute_reply.started": "2025-10-08T12:47:42.796751Z"
    },
    "trusted": true
   },
   "outputs": [
    {
     "data": {
      "text/plain": [
       "UDI                        0\n",
       "Product ID                 0\n",
       "Type                       0\n",
       "Air temperature [K]        0\n",
       "Process temperature [K]    0\n",
       "Rotational speed [rpm]     0\n",
       "Torque [Nm]                0\n",
       "Tool wear [min]            0\n",
       "Machine failure            0\n",
       "TWF                        0\n",
       "HDF                        0\n",
       "PWF                        0\n",
       "OSF                        0\n",
       "RNF                        0\n",
       "dtype: int64"
      ]
     },
     "execution_count": 4,
     "metadata": {},
     "output_type": "execute_result"
    }
   ],
   "source": [
    "df.isnull().sum()"
   ]
  },
  {
   "cell_type": "code",
   "execution_count": 6,
   "metadata": {
    "execution": {
     "iopub.execute_input": "2025-10-08T12:47:46.663756Z",
     "iopub.status.busy": "2025-10-08T12:47:46.663275Z",
     "iopub.status.idle": "2025-10-08T12:47:46.711005Z",
     "shell.execute_reply": "2025-10-08T12:47:46.709671Z",
     "shell.execute_reply.started": "2025-10-08T12:47:46.663714Z"
    },
    "trusted": true
   },
   "outputs": [
    {
     "data": {
      "text/plain": [
       "0"
      ]
     },
     "execution_count": 6,
     "metadata": {},
     "output_type": "execute_result"
    }
   ],
   "source": [
    "df.duplicated().sum()"
   ]
  },
  {
   "cell_type": "code",
   "execution_count": null,
   "metadata": {
    "execution": {
     "iopub.execute_input": "2025-05-22T20:36:10.520277Z",
     "iopub.status.busy": "2025-05-22T20:36:10.519846Z",
     "iopub.status.idle": "2025-05-22T20:36:10.524235Z",
     "shell.execute_reply": "2025-05-22T20:36:10.523166Z",
     "shell.execute_reply.started": "2025-05-22T20:36:10.520233Z"
    },
    "trusted": true
   },
   "outputs": [],
   "source": [
    "# Understanding data types and unique values per column"
   ]
  },
  {
   "cell_type": "code",
   "execution_count": 7,
   "metadata": {
    "execution": {
     "iopub.execute_input": "2025-10-08T12:47:49.253486Z",
     "iopub.status.busy": "2025-10-08T12:47:49.253139Z",
     "iopub.status.idle": "2025-10-08T12:47:49.261938Z",
     "shell.execute_reply": "2025-10-08T12:47:49.260449Z",
     "shell.execute_reply.started": "2025-10-08T12:47:49.253460Z"
    },
    "trusted": true
   },
   "outputs": [
    {
     "data": {
      "text/plain": [
       "UDI                          int64\n",
       "Product ID                  object\n",
       "Type                        object\n",
       "Air temperature [K]        float64\n",
       "Process temperature [K]    float64\n",
       "Rotational speed [rpm]       int64\n",
       "Torque [Nm]                float64\n",
       "Tool wear [min]              int64\n",
       "Machine failure              int64\n",
       "TWF                          int64\n",
       "HDF                          int64\n",
       "PWF                          int64\n",
       "OSF                          int64\n",
       "RNF                          int64\n",
       "dtype: object"
      ]
     },
     "execution_count": 7,
     "metadata": {},
     "output_type": "execute_result"
    }
   ],
   "source": [
    "df.dtypes"
   ]
  },
  {
   "cell_type": "code",
   "execution_count": 8,
   "metadata": {
    "execution": {
     "iopub.execute_input": "2025-10-08T12:47:51.825102Z",
     "iopub.status.busy": "2025-10-08T12:47:51.824602Z",
     "iopub.status.idle": "2025-10-08T12:47:51.839727Z",
     "shell.execute_reply": "2025-10-08T12:47:51.838130Z",
     "shell.execute_reply.started": "2025-10-08T12:47:51.825070Z"
    },
    "trusted": true
   },
   "outputs": [
    {
     "data": {
      "text/plain": [
       "UDI                        10000\n",
       "Product ID                 10000\n",
       "Type                           3\n",
       "Air temperature [K]           93\n",
       "Process temperature [K]       82\n",
       "Rotational speed [rpm]       941\n",
       "Torque [Nm]                  577\n",
       "Tool wear [min]              246\n",
       "Machine failure                2\n",
       "TWF                            2\n",
       "HDF                            2\n",
       "PWF                            2\n",
       "OSF                            2\n",
       "RNF                            2\n",
       "dtype: int64"
      ]
     },
     "execution_count": 8,
     "metadata": {},
     "output_type": "execute_result"
    }
   ],
   "source": [
    "df.nunique()"
   ]
  },
  {
   "cell_type": "code",
   "execution_count": 9,
   "metadata": {
    "execution": {
     "iopub.execute_input": "2025-10-08T12:47:54.171904Z",
     "iopub.status.busy": "2025-10-08T12:47:54.171396Z",
     "iopub.status.idle": "2025-10-08T12:47:54.183595Z",
     "shell.execute_reply": "2025-10-08T12:47:54.182288Z",
     "shell.execute_reply.started": "2025-10-08T12:47:54.171871Z"
    },
    "trusted": true
   },
   "outputs": [
    {
     "data": {
      "text/plain": [
       "Type\n",
       "L    6000\n",
       "M    2997\n",
       "H    1003\n",
       "Name: count, dtype: int64"
      ]
     },
     "execution_count": 9,
     "metadata": {},
     "output_type": "execute_result"
    }
   ],
   "source": [
    "df['Type'].value_counts()"
   ]
  },
  {
   "cell_type": "code",
   "execution_count": null,
   "metadata": {
    "execution": {
     "iopub.status.busy": "2025-10-08T12:48:00.061377Z",
     "iopub.status.idle": "2025-10-08T12:48:00.061813Z",
     "shell.execute_reply": "2025-10-08T12:48:00.061646Z"
    },
    "trusted": true
   },
   "outputs": [],
   "source": [
    "df.drop(columns=['UDI','Product ID'],inplace=True)"
   ]
  },
  {
   "cell_type": "code",
   "execution_count": 13,
   "metadata": {
    "execution": {
     "iopub.execute_input": "2025-10-08T12:48:03.234294Z",
     "iopub.status.busy": "2025-10-08T12:48:03.233968Z",
     "iopub.status.idle": "2025-10-08T12:48:03.249444Z",
     "shell.execute_reply": "2025-10-08T12:48:03.248166Z",
     "shell.execute_reply.started": "2025-10-08T12:48:03.234270Z"
    },
    "trusted": true
   },
   "outputs": [
    {
     "data": {
      "text/html": [
       "<div>\n",
       "<style scoped>\n",
       "    .dataframe tbody tr th:only-of-type {\n",
       "        vertical-align: middle;\n",
       "    }\n",
       "\n",
       "    .dataframe tbody tr th {\n",
       "        vertical-align: top;\n",
       "    }\n",
       "\n",
       "    .dataframe thead th {\n",
       "        text-align: right;\n",
       "    }\n",
       "</style>\n",
       "<table border=\"1\" class=\"dataframe\">\n",
       "  <thead>\n",
       "    <tr style=\"text-align: right;\">\n",
       "      <th></th>\n",
       "      <th>Type</th>\n",
       "      <th>Air temperature [K]</th>\n",
       "      <th>Process temperature [K]</th>\n",
       "      <th>Rotational speed [rpm]</th>\n",
       "      <th>Torque [Nm]</th>\n",
       "      <th>Tool wear [min]</th>\n",
       "      <th>Machine failure</th>\n",
       "      <th>TWF</th>\n",
       "      <th>HDF</th>\n",
       "      <th>PWF</th>\n",
       "      <th>OSF</th>\n",
       "      <th>RNF</th>\n",
       "    </tr>\n",
       "  </thead>\n",
       "  <tbody>\n",
       "    <tr>\n",
       "      <th>0</th>\n",
       "      <td>M</td>\n",
       "      <td>298.1</td>\n",
       "      <td>308.6</td>\n",
       "      <td>1551</td>\n",
       "      <td>42.8</td>\n",
       "      <td>0</td>\n",
       "      <td>0</td>\n",
       "      <td>0</td>\n",
       "      <td>0</td>\n",
       "      <td>0</td>\n",
       "      <td>0</td>\n",
       "      <td>0</td>\n",
       "    </tr>\n",
       "    <tr>\n",
       "      <th>1</th>\n",
       "      <td>L</td>\n",
       "      <td>298.2</td>\n",
       "      <td>308.7</td>\n",
       "      <td>1408</td>\n",
       "      <td>46.3</td>\n",
       "      <td>3</td>\n",
       "      <td>0</td>\n",
       "      <td>0</td>\n",
       "      <td>0</td>\n",
       "      <td>0</td>\n",
       "      <td>0</td>\n",
       "      <td>0</td>\n",
       "    </tr>\n",
       "    <tr>\n",
       "      <th>2</th>\n",
       "      <td>L</td>\n",
       "      <td>298.1</td>\n",
       "      <td>308.5</td>\n",
       "      <td>1498</td>\n",
       "      <td>49.4</td>\n",
       "      <td>5</td>\n",
       "      <td>0</td>\n",
       "      <td>0</td>\n",
       "      <td>0</td>\n",
       "      <td>0</td>\n",
       "      <td>0</td>\n",
       "      <td>0</td>\n",
       "    </tr>\n",
       "    <tr>\n",
       "      <th>3</th>\n",
       "      <td>L</td>\n",
       "      <td>298.2</td>\n",
       "      <td>308.6</td>\n",
       "      <td>1433</td>\n",
       "      <td>39.5</td>\n",
       "      <td>7</td>\n",
       "      <td>0</td>\n",
       "      <td>0</td>\n",
       "      <td>0</td>\n",
       "      <td>0</td>\n",
       "      <td>0</td>\n",
       "      <td>0</td>\n",
       "    </tr>\n",
       "    <tr>\n",
       "      <th>4</th>\n",
       "      <td>L</td>\n",
       "      <td>298.2</td>\n",
       "      <td>308.7</td>\n",
       "      <td>1408</td>\n",
       "      <td>40.0</td>\n",
       "      <td>9</td>\n",
       "      <td>0</td>\n",
       "      <td>0</td>\n",
       "      <td>0</td>\n",
       "      <td>0</td>\n",
       "      <td>0</td>\n",
       "      <td>0</td>\n",
       "    </tr>\n",
       "  </tbody>\n",
       "</table>\n",
       "</div>"
      ],
      "text/plain": [
       "  Type  Air temperature [K]  Process temperature [K]  Rotational speed [rpm]  \\\n",
       "0    M                298.1                    308.6                    1551   \n",
       "1    L                298.2                    308.7                    1408   \n",
       "2    L                298.1                    308.5                    1498   \n",
       "3    L                298.2                    308.6                    1433   \n",
       "4    L                298.2                    308.7                    1408   \n",
       "\n",
       "   Torque [Nm]  Tool wear [min]  Machine failure  TWF  HDF  PWF  OSF  RNF  \n",
       "0         42.8                0                0    0    0    0    0    0  \n",
       "1         46.3                3                0    0    0    0    0    0  \n",
       "2         49.4                5                0    0    0    0    0    0  \n",
       "3         39.5                7                0    0    0    0    0    0  \n",
       "4         40.0                9                0    0    0    0    0    0  "
      ]
     },
     "execution_count": 13,
     "metadata": {},
     "output_type": "execute_result"
    }
   ],
   "source": [
    "df.head()"
   ]
  },
  {
   "cell_type": "code",
   "execution_count": 15,
   "metadata": {
    "execution": {
     "iopub.execute_input": "2025-10-08T12:48:09.111964Z",
     "iopub.status.busy": "2025-10-08T12:48:09.111501Z",
     "iopub.status.idle": "2025-10-08T12:48:09.118715Z",
     "shell.execute_reply": "2025-10-08T12:48:09.117027Z",
     "shell.execute_reply.started": "2025-10-08T12:48:09.111927Z"
    },
    "trusted": true
   },
   "outputs": [],
   "source": [
    "# Creating new feature: temperature difference between process and air\n",
    "df['temperature_difference']=df['Process temperature [K]']-df['Air temperature [K]']"
   ]
  },
  {
   "cell_type": "code",
   "execution_count": 16,
   "metadata": {
    "execution": {
     "iopub.execute_input": "2025-10-08T12:48:11.362829Z",
     "iopub.status.busy": "2025-10-08T12:48:11.362433Z",
     "iopub.status.idle": "2025-10-08T12:48:11.377255Z",
     "shell.execute_reply": "2025-10-08T12:48:11.376088Z",
     "shell.execute_reply.started": "2025-10-08T12:48:11.362796Z"
    },
    "trusted": true
   },
   "outputs": [],
   "source": [
    "# Creating new feature: mechanical power using torque and rotational speed\n",
    "df['Mechanical Power [W]']=np.round((df['Torque [Nm]']*df['Rotational speed [rpm]']* 2 * np.pi) / 60,4)"
   ]
  },
  {
   "cell_type": "code",
   "execution_count": 18,
   "metadata": {
    "execution": {
     "iopub.execute_input": "2025-10-08T12:48:15.099724Z",
     "iopub.status.busy": "2025-10-08T12:48:15.099287Z",
     "iopub.status.idle": "2025-10-08T12:48:15.124825Z",
     "shell.execute_reply": "2025-10-08T12:48:15.122967Z",
     "shell.execute_reply.started": "2025-10-08T12:48:15.099693Z"
    },
    "trusted": true
   },
   "outputs": [
    {
     "data": {
      "text/html": [
       "<div>\n",
       "<style scoped>\n",
       "    .dataframe tbody tr th:only-of-type {\n",
       "        vertical-align: middle;\n",
       "    }\n",
       "\n",
       "    .dataframe tbody tr th {\n",
       "        vertical-align: top;\n",
       "    }\n",
       "\n",
       "    .dataframe thead th {\n",
       "        text-align: right;\n",
       "    }\n",
       "</style>\n",
       "<table border=\"1\" class=\"dataframe\">\n",
       "  <thead>\n",
       "    <tr style=\"text-align: right;\">\n",
       "      <th></th>\n",
       "      <th>Type</th>\n",
       "      <th>Air temperature [K]</th>\n",
       "      <th>Process temperature [K]</th>\n",
       "      <th>Rotational speed [rpm]</th>\n",
       "      <th>Torque [Nm]</th>\n",
       "      <th>Tool wear [min]</th>\n",
       "      <th>Machine failure</th>\n",
       "      <th>TWF</th>\n",
       "      <th>HDF</th>\n",
       "      <th>PWF</th>\n",
       "      <th>OSF</th>\n",
       "      <th>RNF</th>\n",
       "      <th>temperature_difference</th>\n",
       "      <th>Mechanical Power [W]</th>\n",
       "    </tr>\n",
       "  </thead>\n",
       "  <tbody>\n",
       "    <tr>\n",
       "      <th>0</th>\n",
       "      <td>M</td>\n",
       "      <td>298.1</td>\n",
       "      <td>308.6</td>\n",
       "      <td>1551</td>\n",
       "      <td>42.8</td>\n",
       "      <td>0</td>\n",
       "      <td>0</td>\n",
       "      <td>0</td>\n",
       "      <td>0</td>\n",
       "      <td>0</td>\n",
       "      <td>0</td>\n",
       "      <td>0</td>\n",
       "      <td>10.5</td>\n",
       "      <td>6951.5906</td>\n",
       "    </tr>\n",
       "    <tr>\n",
       "      <th>1</th>\n",
       "      <td>L</td>\n",
       "      <td>298.2</td>\n",
       "      <td>308.7</td>\n",
       "      <td>1408</td>\n",
       "      <td>46.3</td>\n",
       "      <td>3</td>\n",
       "      <td>0</td>\n",
       "      <td>0</td>\n",
       "      <td>0</td>\n",
       "      <td>0</td>\n",
       "      <td>0</td>\n",
       "      <td>0</td>\n",
       "      <td>10.5</td>\n",
       "      <td>6826.7227</td>\n",
       "    </tr>\n",
       "    <tr>\n",
       "      <th>2</th>\n",
       "      <td>L</td>\n",
       "      <td>298.1</td>\n",
       "      <td>308.5</td>\n",
       "      <td>1498</td>\n",
       "      <td>49.4</td>\n",
       "      <td>5</td>\n",
       "      <td>0</td>\n",
       "      <td>0</td>\n",
       "      <td>0</td>\n",
       "      <td>0</td>\n",
       "      <td>0</td>\n",
       "      <td>0</td>\n",
       "      <td>10.4</td>\n",
       "      <td>7749.3875</td>\n",
       "    </tr>\n",
       "    <tr>\n",
       "      <th>3</th>\n",
       "      <td>L</td>\n",
       "      <td>298.2</td>\n",
       "      <td>308.6</td>\n",
       "      <td>1433</td>\n",
       "      <td>39.5</td>\n",
       "      <td>7</td>\n",
       "      <td>0</td>\n",
       "      <td>0</td>\n",
       "      <td>0</td>\n",
       "      <td>0</td>\n",
       "      <td>0</td>\n",
       "      <td>0</td>\n",
       "      <td>10.4</td>\n",
       "      <td>5927.5047</td>\n",
       "    </tr>\n",
       "    <tr>\n",
       "      <th>4</th>\n",
       "      <td>L</td>\n",
       "      <td>298.2</td>\n",
       "      <td>308.7</td>\n",
       "      <td>1408</td>\n",
       "      <td>40.0</td>\n",
       "      <td>9</td>\n",
       "      <td>0</td>\n",
       "      <td>0</td>\n",
       "      <td>0</td>\n",
       "      <td>0</td>\n",
       "      <td>0</td>\n",
       "      <td>0</td>\n",
       "      <td>10.5</td>\n",
       "      <td>5897.8166</td>\n",
       "    </tr>\n",
       "    <tr>\n",
       "      <th>...</th>\n",
       "      <td>...</td>\n",
       "      <td>...</td>\n",
       "      <td>...</td>\n",
       "      <td>...</td>\n",
       "      <td>...</td>\n",
       "      <td>...</td>\n",
       "      <td>...</td>\n",
       "      <td>...</td>\n",
       "      <td>...</td>\n",
       "      <td>...</td>\n",
       "      <td>...</td>\n",
       "      <td>...</td>\n",
       "      <td>...</td>\n",
       "      <td>...</td>\n",
       "    </tr>\n",
       "    <tr>\n",
       "      <th>9995</th>\n",
       "      <td>M</td>\n",
       "      <td>298.8</td>\n",
       "      <td>308.4</td>\n",
       "      <td>1604</td>\n",
       "      <td>29.5</td>\n",
       "      <td>14</td>\n",
       "      <td>0</td>\n",
       "      <td>0</td>\n",
       "      <td>0</td>\n",
       "      <td>0</td>\n",
       "      <td>0</td>\n",
       "      <td>0</td>\n",
       "      <td>9.6</td>\n",
       "      <td>4955.1294</td>\n",
       "    </tr>\n",
       "    <tr>\n",
       "      <th>9996</th>\n",
       "      <td>H</td>\n",
       "      <td>298.9</td>\n",
       "      <td>308.4</td>\n",
       "      <td>1632</td>\n",
       "      <td>31.8</td>\n",
       "      <td>17</td>\n",
       "      <td>0</td>\n",
       "      <td>0</td>\n",
       "      <td>0</td>\n",
       "      <td>0</td>\n",
       "      <td>0</td>\n",
       "      <td>0</td>\n",
       "      <td>9.5</td>\n",
       "      <td>5434.7040</td>\n",
       "    </tr>\n",
       "    <tr>\n",
       "      <th>9997</th>\n",
       "      <td>M</td>\n",
       "      <td>299.0</td>\n",
       "      <td>308.6</td>\n",
       "      <td>1645</td>\n",
       "      <td>33.4</td>\n",
       "      <td>22</td>\n",
       "      <td>0</td>\n",
       "      <td>0</td>\n",
       "      <td>0</td>\n",
       "      <td>0</td>\n",
       "      <td>0</td>\n",
       "      <td>0</td>\n",
       "      <td>9.6</td>\n",
       "      <td>5753.6175</td>\n",
       "    </tr>\n",
       "    <tr>\n",
       "      <th>9998</th>\n",
       "      <td>H</td>\n",
       "      <td>299.0</td>\n",
       "      <td>308.7</td>\n",
       "      <td>1408</td>\n",
       "      <td>48.5</td>\n",
       "      <td>25</td>\n",
       "      <td>0</td>\n",
       "      <td>0</td>\n",
       "      <td>0</td>\n",
       "      <td>0</td>\n",
       "      <td>0</td>\n",
       "      <td>0</td>\n",
       "      <td>9.7</td>\n",
       "      <td>7151.1026</td>\n",
       "    </tr>\n",
       "    <tr>\n",
       "      <th>9999</th>\n",
       "      <td>M</td>\n",
       "      <td>299.0</td>\n",
       "      <td>308.7</td>\n",
       "      <td>1500</td>\n",
       "      <td>40.2</td>\n",
       "      <td>30</td>\n",
       "      <td>0</td>\n",
       "      <td>0</td>\n",
       "      <td>0</td>\n",
       "      <td>0</td>\n",
       "      <td>0</td>\n",
       "      <td>0</td>\n",
       "      <td>9.7</td>\n",
       "      <td>6314.6012</td>\n",
       "    </tr>\n",
       "  </tbody>\n",
       "</table>\n",
       "<p>10000 rows × 14 columns</p>\n",
       "</div>"
      ],
      "text/plain": [
       "     Type  Air temperature [K]  Process temperature [K]  \\\n",
       "0       M                298.1                    308.6   \n",
       "1       L                298.2                    308.7   \n",
       "2       L                298.1                    308.5   \n",
       "3       L                298.2                    308.6   \n",
       "4       L                298.2                    308.7   \n",
       "...   ...                  ...                      ...   \n",
       "9995    M                298.8                    308.4   \n",
       "9996    H                298.9                    308.4   \n",
       "9997    M                299.0                    308.6   \n",
       "9998    H                299.0                    308.7   \n",
       "9999    M                299.0                    308.7   \n",
       "\n",
       "      Rotational speed [rpm]  Torque [Nm]  Tool wear [min]  Machine failure  \\\n",
       "0                       1551         42.8                0                0   \n",
       "1                       1408         46.3                3                0   \n",
       "2                       1498         49.4                5                0   \n",
       "3                       1433         39.5                7                0   \n",
       "4                       1408         40.0                9                0   \n",
       "...                      ...          ...              ...              ...   \n",
       "9995                    1604         29.5               14                0   \n",
       "9996                    1632         31.8               17                0   \n",
       "9997                    1645         33.4               22                0   \n",
       "9998                    1408         48.5               25                0   \n",
       "9999                    1500         40.2               30                0   \n",
       "\n",
       "      TWF  HDF  PWF  OSF  RNF  temperature_difference  Mechanical Power [W]  \n",
       "0       0    0    0    0    0                    10.5             6951.5906  \n",
       "1       0    0    0    0    0                    10.5             6826.7227  \n",
       "2       0    0    0    0    0                    10.4             7749.3875  \n",
       "3       0    0    0    0    0                    10.4             5927.5047  \n",
       "4       0    0    0    0    0                    10.5             5897.8166  \n",
       "...   ...  ...  ...  ...  ...                     ...                   ...  \n",
       "9995    0    0    0    0    0                     9.6             4955.1294  \n",
       "9996    0    0    0    0    0                     9.5             5434.7040  \n",
       "9997    0    0    0    0    0                     9.6             5753.6175  \n",
       "9998    0    0    0    0    0                     9.7             7151.1026  \n",
       "9999    0    0    0    0    0                     9.7             6314.6012  \n",
       "\n",
       "[10000 rows x 14 columns]"
      ]
     },
     "execution_count": 18,
     "metadata": {},
     "output_type": "execute_result"
    }
   ],
   "source": [
    "df"
   ]
  },
  {
   "cell_type": "code",
   "execution_count": null,
   "metadata": {
    "execution": {
     "iopub.execute_input": "2025-10-07T13:41:25.739183Z",
     "iopub.status.busy": "2025-10-07T13:41:25.738829Z",
     "iopub.status.idle": "2025-10-07T13:41:25.783770Z",
     "shell.execute_reply": "2025-10-07T13:41:25.782796Z",
     "shell.execute_reply.started": "2025-10-07T13:41:25.739157Z"
    },
    "trusted": true
   },
   "outputs": [],
   "source": [
    "df.describe().T"
   ]
  },
  {
   "cell_type": "code",
   "execution_count": null,
   "metadata": {
    "execution": {
     "iopub.execute_input": "2025-10-07T13:41:29.909354Z",
     "iopub.status.busy": "2025-10-07T13:41:29.908955Z",
     "iopub.status.idle": "2025-10-07T13:41:31.033615Z",
     "shell.execute_reply": "2025-10-07T13:41:31.032585Z",
     "shell.execute_reply.started": "2025-10-07T13:41:29.909321Z"
    },
    "trusted": true
   },
   "outputs": [],
   "source": [
    "import seaborn as sns\n",
    "import matplotlib.pyplot as plt\n",
    "\n",
    "plt.figure(figsize=(6,4))\n",
    "sns.countplot(x='Type', data=df)\n",
    "plt.title('Distribution of Machine Types')\n",
    "plt.xlabel('Machine Type')\n",
    "plt.ylabel('Count')\n",
    "plt.show()\n"
   ]
  },
  {
   "cell_type": "code",
   "execution_count": null,
   "metadata": {
    "execution": {
     "iopub.execute_input": "2025-10-07T13:43:15.724722Z",
     "iopub.status.busy": "2025-10-07T13:43:15.724118Z",
     "iopub.status.idle": "2025-10-07T13:43:15.930455Z",
     "shell.execute_reply": "2025-10-07T13:43:15.929578Z",
     "shell.execute_reply.started": "2025-10-07T13:43:15.724686Z"
    },
    "trusted": true
   },
   "outputs": [],
   "source": [
    "plt.figure(figsize=(6,4))\n",
    "sns.countplot(x='Type', hue='Machine failure', data=df)\n",
    "plt.title('Machine Failure Distribution Across Types')\n",
    "plt.xlabel('Machine Type')\n",
    "plt.ylabel('Count')\n",
    "plt.legend(title='Failure')\n",
    "plt.show()\n"
   ]
  },
  {
   "cell_type": "code",
   "execution_count": null,
   "metadata": {
    "execution": {
     "iopub.execute_input": "2025-10-07T13:43:19.077271Z",
     "iopub.status.busy": "2025-10-07T13:43:19.076915Z",
     "iopub.status.idle": "2025-10-07T13:43:21.113159Z",
     "shell.execute_reply": "2025-10-07T13:43:21.112018Z",
     "shell.execute_reply.started": "2025-10-07T13:43:19.077242Z"
    },
    "trusted": true
   },
   "outputs": [],
   "source": [
    "cols = ['Torque [Nm]', 'Rotational speed [rpm]', 'temperature_difference', 'Mechanical Power [W]']\n",
    "\n",
    "for col in cols:\n",
    "    fig, axes = plt.subplots(1, 2, figsize=(12, 4))  # 1 row, 2 columns\n",
    "\n",
    "    # Histogram with KDE\n",
    "    sns.histplot(data=df, x=col, kde=True, ax=axes[0])\n",
    "    axes[0].set_title(f\"{col} Distribution\")\n",
    "\n",
    "    # Boxplot\n",
    "    sns.boxplot(data=df, x=col, ax=axes[1])\n",
    "    axes[1].set_title(f\"{col} - Outlier Check\")\n",
    "\n",
    "    plt.tight_layout()\n",
    "    plt.show()"
   ]
  },
  {
   "cell_type": "code",
   "execution_count": null,
   "metadata": {
    "execution": {
     "iopub.execute_input": "2025-10-07T13:43:35.352665Z",
     "iopub.status.busy": "2025-10-07T13:43:35.352248Z",
     "iopub.status.idle": "2025-10-07T13:43:47.242942Z",
     "shell.execute_reply": "2025-10-07T13:43:47.241893Z",
     "shell.execute_reply.started": "2025-10-07T13:43:35.352633Z"
    },
    "trusted": true
   },
   "outputs": [],
   "source": [
    "sns.pairplot(df[['Torque [Nm]', 'Rotational speed [rpm]', 'temperature_difference','Mechanical Power [W]', 'Machine failure']], hue='Machine failure')\n",
    "plt.show()\n"
   ]
  },
  {
   "cell_type": "code",
   "execution_count": null,
   "metadata": {
    "execution": {
     "iopub.execute_input": "2025-10-07T13:44:05.296528Z",
     "iopub.status.busy": "2025-10-07T13:44:05.296143Z",
     "iopub.status.idle": "2025-10-07T13:44:05.300999Z",
     "shell.execute_reply": "2025-10-07T13:44:05.299849Z",
     "shell.execute_reply.started": "2025-10-07T13:44:05.296480Z"
    },
    "trusted": true
   },
   "outputs": [],
   "source": [
    "import matplotlib.pyplot as plt\n",
    "import seaborn as sns"
   ]
  },
  {
   "cell_type": "code",
   "execution_count": null,
   "metadata": {
    "execution": {
     "iopub.execute_input": "2025-10-07T13:44:07.074311Z",
     "iopub.status.busy": "2025-10-07T13:44:07.073939Z",
     "iopub.status.idle": "2025-10-07T13:44:07.868397Z",
     "shell.execute_reply": "2025-10-07T13:44:07.867433Z",
     "shell.execute_reply.started": "2025-10-07T13:44:07.074279Z"
    },
    "trusted": true
   },
   "outputs": [],
   "source": [
    "# Checking correlation between numerical features using a heatmap\n",
    "corr_matrix=df.corr(numeric_only=True)\n",
    "plt.figure(figsize=(8,5))\n",
    "sns.heatmap(corr_matrix,annot=True,cmap='cividis',fmt=\".2f\", linewidths=0.5)"
   ]
  },
  {
   "cell_type": "code",
   "execution_count": null,
   "metadata": {
    "execution": {
     "iopub.execute_input": "2025-05-22T20:36:27.339659Z",
     "iopub.status.busy": "2025-05-22T20:36:27.339372Z",
     "iopub.status.idle": "2025-05-22T20:36:27.343786Z",
     "shell.execute_reply": "2025-05-22T20:36:27.342777Z",
     "shell.execute_reply.started": "2025-05-22T20:36:27.339636Z"
    },
    "trusted": true
   },
   "outputs": [],
   "source": [
    "# Checking correlation between different failure using a heatmap"
   ]
  },
  {
   "cell_type": "code",
   "execution_count": null,
   "metadata": {
    "execution": {
     "iopub.execute_input": "2025-10-07T13:44:46.929348Z",
     "iopub.status.busy": "2025-10-07T13:44:46.929008Z",
     "iopub.status.idle": "2025-10-07T13:44:47.289504Z",
     "shell.execute_reply": "2025-10-07T13:44:47.288472Z",
     "shell.execute_reply.started": "2025-10-07T13:44:46.929319Z"
    },
    "trusted": true
   },
   "outputs": [],
   "source": [
    "target=df.iloc[:,[6,7,8,9,10,11]]\n",
    "target_mat=target.corr()\n",
    "sns.heatmap(target_mat,annot=True,cmap=\"cividis\",fmt=\".4f\",linewidth=0.5)"
   ]
  },
  {
   "cell_type": "markdown",
   "metadata": {},
   "source": [
    "Tool wear failure (TWF), heat dissipation failure (HDF),power failure (PWF),overstrain failure (OSF) and random failures (RNF) shows more positive correlation with target variable i.e. machine failure. Thus dropping columns 'TWF','HDF','PWF','OSF','RNF'.\n"
   ]
  },
  {
   "cell_type": "code",
   "execution_count": null,
   "metadata": {
    "execution": {
     "iopub.execute_input": "2025-10-07T13:44:50.676123Z",
     "iopub.status.busy": "2025-10-07T13:44:50.675778Z",
     "iopub.status.idle": "2025-10-07T13:44:50.682800Z",
     "shell.execute_reply": "2025-10-07T13:44:50.681580Z",
     "shell.execute_reply.started": "2025-10-07T13:44:50.676095Z"
    },
    "trusted": true
   },
   "outputs": [],
   "source": [
    "df.drop(columns=['TWF','HDF','PWF','OSF','RNF'],inplace=True)"
   ]
  },
  {
   "cell_type": "code",
   "execution_count": null,
   "metadata": {
    "execution": {
     "iopub.execute_input": "2025-10-07T13:44:52.649637Z",
     "iopub.status.busy": "2025-10-07T13:44:52.649240Z",
     "iopub.status.idle": "2025-10-07T13:44:52.663420Z",
     "shell.execute_reply": "2025-10-07T13:44:52.662421Z",
     "shell.execute_reply.started": "2025-10-07T13:44:52.649606Z"
    },
    "trusted": true
   },
   "outputs": [],
   "source": [
    "df.sample(3)"
   ]
  },
  {
   "cell_type": "code",
   "execution_count": null,
   "metadata": {
    "execution": {
     "iopub.execute_input": "2025-10-07T13:44:55.579227Z",
     "iopub.status.busy": "2025-10-07T13:44:55.578894Z",
     "iopub.status.idle": "2025-10-07T13:44:55.657048Z",
     "shell.execute_reply": "2025-10-07T13:44:55.656234Z",
     "shell.execute_reply.started": "2025-10-07T13:44:55.579202Z"
    },
    "trusted": true
   },
   "outputs": [],
   "source": [
    "# Label encoding categorical variables (column- Type)\n",
    "from sklearn.preprocessing import LabelEncoder\n",
    "df['Type'] = LabelEncoder().fit_transform(df['Type'])"
   ]
  },
  {
   "cell_type": "code",
   "execution_count": null,
   "metadata": {
    "execution": {
     "iopub.execute_input": "2025-10-07T13:44:57.473978Z",
     "iopub.status.busy": "2025-10-07T13:44:57.473650Z",
     "iopub.status.idle": "2025-10-07T13:44:57.488908Z",
     "shell.execute_reply": "2025-10-07T13:44:57.488061Z",
     "shell.execute_reply.started": "2025-10-07T13:44:57.473953Z"
    },
    "trusted": true
   },
   "outputs": [],
   "source": [
    "# Scaling numerical features using StandardScaler for model compatibility\n",
    "from sklearn.preprocessing import StandardScaler\n",
    "scale=StandardScaler()\n",
    "data=pd.DataFrame(scale.fit_transform(df),columns=df.columns,index=df.index)"
   ]
  },
  {
   "cell_type": "code",
   "execution_count": null,
   "metadata": {
    "execution": {
     "iopub.execute_input": "2025-10-07T13:45:03.040007Z",
     "iopub.status.busy": "2025-10-07T13:45:03.039668Z",
     "iopub.status.idle": "2025-10-07T13:45:03.056130Z",
     "shell.execute_reply": "2025-10-07T13:45:03.055019Z",
     "shell.execute_reply.started": "2025-10-07T13:45:03.039981Z"
    },
    "trusted": true
   },
   "outputs": [],
   "source": [
    "data.sample(10)"
   ]
  },
  {
   "cell_type": "code",
   "execution_count": null,
   "metadata": {
    "execution": {
     "iopub.execute_input": "2025-10-07T13:45:04.871024Z",
     "iopub.status.busy": "2025-10-07T13:45:04.870672Z",
     "iopub.status.idle": "2025-10-07T13:45:04.875617Z",
     "shell.execute_reply": "2025-10-07T13:45:04.874626Z",
     "shell.execute_reply.started": "2025-10-07T13:45:04.870996Z"
    },
    "trusted": true
   },
   "outputs": [],
   "source": [
    "Y=df.pop(\"Machine failure\")\n",
    "X=df"
   ]
  },
  {
   "cell_type": "code",
   "execution_count": null,
   "metadata": {
    "execution": {
     "iopub.execute_input": "2025-10-07T13:45:07.262194Z",
     "iopub.status.busy": "2025-10-07T13:45:07.261848Z",
     "iopub.status.idle": "2025-10-07T13:45:07.278071Z",
     "shell.execute_reply": "2025-10-07T13:45:07.277169Z",
     "shell.execute_reply.started": "2025-10-07T13:45:07.262166Z"
    },
    "trusted": true
   },
   "outputs": [],
   "source": [
    "X"
   ]
  },
  {
   "cell_type": "code",
   "execution_count": null,
   "metadata": {
    "execution": {
     "iopub.execute_input": "2025-10-07T13:45:08.951005Z",
     "iopub.status.busy": "2025-10-07T13:45:08.950661Z",
     "iopub.status.idle": "2025-10-07T13:45:08.957912Z",
     "shell.execute_reply": "2025-10-07T13:45:08.956840Z",
     "shell.execute_reply.started": "2025-10-07T13:45:08.950977Z"
    },
    "trusted": true
   },
   "outputs": [],
   "source": [
    "Y"
   ]
  },
  {
   "cell_type": "code",
   "execution_count": null,
   "metadata": {
    "execution": {
     "iopub.execute_input": "2025-10-07T13:45:13.546974Z",
     "iopub.status.busy": "2025-10-07T13:45:13.546614Z",
     "iopub.status.idle": "2025-10-07T13:45:13.553387Z",
     "shell.execute_reply": "2025-10-07T13:45:13.552157Z",
     "shell.execute_reply.started": "2025-10-07T13:45:13.546944Z"
    },
    "trusted": true
   },
   "outputs": [],
   "source": [
    "# print distribution of class before SMOTE\n",
    "from collections import Counter\n",
    "\n",
    "counts = Counter(Y)\n",
    "print(counts)\n"
   ]
  },
  {
   "cell_type": "code",
   "execution_count": null,
   "metadata": {
    "execution": {
     "iopub.execute_input": "2025-10-07T13:45:16.201656Z",
     "iopub.status.busy": "2025-10-07T13:45:16.201258Z",
     "iopub.status.idle": "2025-10-07T13:45:16.903434Z",
     "shell.execute_reply": "2025-10-07T13:45:16.902606Z",
     "shell.execute_reply.started": "2025-10-07T13:45:16.201628Z"
    },
    "trusted": true
   },
   "outputs": [],
   "source": [
    "from imblearn.over_sampling import SMOTE\n",
    "\n",
    "smote = SMOTE(random_state=42)\n",
    "X_resampled, y_resampled = smote.fit_resample(X, Y)\n"
   ]
  },
  {
   "cell_type": "code",
   "execution_count": null,
   "metadata": {
    "execution": {
     "iopub.execute_input": "2025-10-07T13:45:20.232639Z",
     "iopub.status.busy": "2025-10-07T13:45:20.232110Z",
     "iopub.status.idle": "2025-10-07T13:45:20.240101Z",
     "shell.execute_reply": "2025-10-07T13:45:20.238743Z",
     "shell.execute_reply.started": "2025-10-07T13:45:20.232610Z"
    },
    "trusted": true
   },
   "outputs": [],
   "source": [
    "# print distribution of class AFTER SMOTE\n",
    "\n",
    "from collections import Counter\n",
    "\n",
    "counts = Counter(y_resampled )\n",
    "print(counts)\n"
   ]
  },
  {
   "cell_type": "code",
   "execution_count": null,
   "metadata": {
    "execution": {
     "iopub.execute_input": "2025-10-07T13:55:44.747528Z",
     "iopub.status.busy": "2025-10-07T13:55:44.747113Z",
     "iopub.status.idle": "2025-10-07T13:55:44.757165Z",
     "shell.execute_reply": "2025-10-07T13:55:44.756187Z",
     "shell.execute_reply.started": "2025-10-07T13:55:44.747481Z"
    },
    "trusted": true
   },
   "outputs": [],
   "source": [
    "#Performing train-test split\n",
    "\n",
    "from sklearn.model_selection import train_test_split\n",
    "X_train,X_test,Y_train,Y_test=train_test_split(X_resampled,y_resampled,test_size=0.1)"
   ]
  },
  {
   "cell_type": "code",
   "execution_count": null,
   "metadata": {
    "execution": {
     "iopub.execute_input": "2025-10-07T13:48:36.482448Z",
     "iopub.status.busy": "2025-10-07T13:48:36.482025Z",
     "iopub.status.idle": "2025-10-07T13:48:36.715973Z",
     "shell.execute_reply": "2025-10-07T13:48:36.715139Z",
     "shell.execute_reply.started": "2025-10-07T13:48:36.482416Z"
    },
    "trusted": true
   },
   "outputs": [],
   "source": [
    "# Importing machine learning models\n",
    "from sklearn.metrics import accuracy_score\n",
    "from sklearn.linear_model import LogisticRegression, LogisticRegressionCV, SGDClassifier\n",
    "from sklearn.ensemble import (\n",
    "    RandomForestClassifier,\n",
    "    GradientBoostingClassifier,\n",
    "    AdaBoostClassifier,\n",
    "    BaggingClassifier\n",
    ")\n",
    "from sklearn.tree import DecisionTreeClassifier\n",
    "from sklearn.svm import SVC\n",
    "from sklearn.neighbors import KNeighborsClassifier\n",
    "from xgboost import XGBClassifier  \n",
    "\n"
   ]
  },
  {
   "cell_type": "code",
   "execution_count": null,
   "metadata": {
    "execution": {
     "iopub.execute_input": "2025-10-07T13:49:35.691357Z",
     "iopub.status.busy": "2025-10-07T13:49:35.690968Z",
     "iopub.status.idle": "2025-10-07T13:49:35.696647Z",
     "shell.execute_reply": "2025-10-07T13:49:35.695467Z",
     "shell.execute_reply.started": "2025-10-07T13:49:35.691326Z"
    },
    "trusted": true
   },
   "outputs": [],
   "source": [
    "# Define models\n",
    "models = {\n",
    "    'Logistic Regression': LogisticRegression(),\n",
    "    'Random Forest': RandomForestClassifier(),\n",
    "    'Gradient Boosting': GradientBoostingClassifier(),\n",
    "    'AdaBoost': AdaBoostClassifier(),\n",
    "    \n",
    "}"
   ]
  },
  {
   "cell_type": "code",
   "execution_count": null,
   "metadata": {
    "execution": {
     "iopub.execute_input": "2025-10-07T13:49:40.477265Z",
     "iopub.status.busy": "2025-10-07T13:49:40.476926Z",
     "iopub.status.idle": "2025-10-07T13:49:40.482792Z",
     "shell.execute_reply": "2025-10-07T13:49:40.481730Z",
     "shell.execute_reply.started": "2025-10-07T13:49:40.477240Z"
    },
    "trusted": true
   },
   "outputs": [],
   "source": [
    "# Creating a function to fit models on our dataset and check which model gives highest accuracy\n",
    "\n",
    "def evaluate_model(X_train,X_test,Y_train,Y_test):\n",
    "    result=[]\n",
    "    for name, model in models.items():\n",
    "        model.fit(X_train,Y_train)\n",
    "        y_pred=model.predict(X_test)\n",
    "        acc=accuracy_score(Y_test,y_pred)\n",
    "        result.append((name,acc))\n",
    "    # Sort models by accuracy\n",
    "    result.sort(key=lambda x: x[1], reverse=True)\n",
    "    return result\n",
    "    \n",
    "        "
   ]
  },
  {
   "cell_type": "code",
   "execution_count": null,
   "metadata": {
    "trusted": true
   },
   "outputs": [],
   "source": [
    "# Creating a function to fit models on our dataset and check which model gives highest accuracy\n",
    "\n",
    "def evaluate_model(X_train,X_test,Y_train,Y_test):\n",
    "    result=[]\n",
    "    for name, model in models.items():\n",
    "        model.fit(X_train,Y_train)\n",
    "        y_pred=model.predict(X_test)\n",
    "        acc=accuracy_score(Y_test,y_pred)\n",
    "        result.append((name,acc))\n",
    "    # Sort models by accuracy\n",
    "    result.sort(key=lambda x: x[1], reverse=True)\n",
    "    return result\n",
    "    \n",
    "        "
   ]
  },
  {
   "cell_type": "code",
   "execution_count": null,
   "metadata": {
    "execution": {
     "iopub.execute_input": "2025-10-07T13:49:42.685208Z",
     "iopub.status.busy": "2025-10-07T13:49:42.684872Z",
     "iopub.status.idle": "2025-10-07T13:49:49.806935Z",
     "shell.execute_reply": "2025-10-07T13:49:49.805809Z",
     "shell.execute_reply.started": "2025-10-07T13:49:42.685183Z"
    },
    "trusted": true
   },
   "outputs": [],
   "source": [
    "results = evaluate_model(X_train,X_test,Y_train,Y_test)\n",
    "    \n",
    "print(\"Model Performance:\")\n",
    "for name, acc in results:\n",
    "    print(f\"{name}: {acc:.6f}\")"
   ]
  },
  {
   "cell_type": "code",
   "execution_count": null,
   "metadata": {
    "execution": {
     "iopub.execute_input": "2025-10-07T14:02:56.047842Z",
     "iopub.status.busy": "2025-10-07T14:02:56.047486Z",
     "iopub.status.idle": "2025-10-07T14:02:56.490467Z",
     "shell.execute_reply": "2025-10-07T14:02:56.489314Z",
     "shell.execute_reply.started": "2025-10-07T14:02:56.047817Z"
    },
    "trusted": true
   },
   "outputs": [],
   "source": [
    "from xgboost import XGBClassifier\n",
    "from sklearn.metrics import accuracy_score, classification_report, confusion_matrix\n",
    "from sklearn.preprocessing import LabelEncoder\n",
    "\n",
    "\n",
    "\n",
    "# Define and configure the model\n",
    "xgb_model = XGBClassifier(\n",
    "    n_estimators=300,        # Number of trees (boosting rounds)\n",
    "    learning_rate=0.05,      # Step size shrinkage — smaller = slower but more precise learning\n",
    "    max_depth=5,             # Depth of each tree; controls model complexity\n",
    "    subsample=0.8,           # % of training samples used per tree (prevents overfitting)\n",
    "    colsample_bytree=0.8,    # % of features used per tree (feature sampling)\n",
    "    gamma=0,                 # Minimum loss reduction required to make a split\n",
    "    reg_lambda=1,            # L2 regularization term on weights (helps avoid overfitting)\n",
    "    reg_alpha=0,             # L1 regularization term on weights (feature sparsity)\n",
    "    random_state=42,         # Reproducibility\n",
    "    use_label_encoder=False, # Avoids old warning\n",
    "    eval_metric='mlogloss'   # Metric suitable for multiclass classification\n",
    ")\n",
    "# Clean feature names in X_train and X_test\n",
    "X_train.columns = X_train.columns.astype(str)\n",
    "X_train.columns = [c.replace('[', '(').replace(']', ')').replace('<', '_').replace('>', '_') for c in X_train.columns]\n",
    "\n",
    "X_test.columns = X_test.columns.astype(str)\n",
    "X_test.columns = [c.replace('[', '(').replace(']', ')').replace('<', '_').replace('>', '_') for c in X_test.columns]\n",
    "\n",
    "# Train the model\n",
    "xgb_model.fit(X_train, Y_train)\n",
    "\n",
    "# Predictions\n",
    "y_pred = xgb_model.predict(X_test)\n",
    "y_proba = xgb_model.predict_proba(X_test)\n",
    "\n",
    "# Evaluation\n",
    "print(\"✅ Accuracy:\", accuracy_score(Y_test, y_pred))\n",
    "print(\"\\nClassification Report:\")\n",
    "print(classification_report(Y_test, y_pred, target_names=['0', '1']))\n",
    "\n",
    "\n",
    "print(\"\\nConfusion Matrix:\")\n",
    "print(confusion_matrix(Y_test, y_pred))\n",
    "\n"
   ]
  },
  {
   "cell_type": "code",
   "execution_count": null,
   "metadata": {
    "execution": {
     "iopub.execute_input": "2025-10-07T14:06:08.484167Z",
     "iopub.status.busy": "2025-10-07T14:06:08.483818Z",
     "iopub.status.idle": "2025-10-07T14:06:08.556636Z",
     "shell.execute_reply": "2025-10-07T14:06:08.555736Z",
     "shell.execute_reply.started": "2025-10-07T14:06:08.484140Z"
    },
    "trusted": true
   },
   "outputs": [],
   "source": [
    "# Save each model to a .pkl file\n",
    "import joblib\n",
    "joblib.dump(models['Logistic Regression'], \"logistic_regression_model.pkl\")\n",
    "joblib.dump(models['Random Forest'], \"random_forest_model.pkl\")\n",
    "joblib.dump(xgb_model, \"xgboost_model.pkl\")"
   ]
  },
  {
   "cell_type": "code",
   "execution_count": null,
   "metadata": {
    "execution": {
     "iopub.execute_input": "2025-05-22T20:36:48.759514Z",
     "iopub.status.busy": "2025-05-22T20:36:48.759139Z",
     "iopub.status.idle": "2025-05-22T20:36:48.764051Z",
     "shell.execute_reply": "2025-05-22T20:36:48.762808Z",
     "shell.execute_reply.started": "2025-05-22T20:36:48.759487Z"
    },
    "trusted": true
   },
   "outputs": [],
   "source": [
    " RF=RandomForestClassifier(class_weight='balanced')"
   ]
  },
  {
   "cell_type": "code",
   "execution_count": null,
   "metadata": {
    "execution": {
     "iopub.execute_input": "2025-05-22T20:36:48.765848Z",
     "iopub.status.busy": "2025-05-22T20:36:48.765465Z",
     "iopub.status.idle": "2025-05-22T20:36:51.287469Z",
     "shell.execute_reply": "2025-05-22T20:36:51.28648Z",
     "shell.execute_reply.started": "2025-05-22T20:36:48.765811Z"
    },
    "trusted": true
   },
   "outputs": [],
   "source": [
    "RF.fit(X_train,Y_train)\n",
    "y_pred=RF.predict(X_test)\n",
    "acc=accuracy_score(Y_test,y_pred)"
   ]
  },
  {
   "cell_type": "code",
   "execution_count": null,
   "metadata": {
    "execution": {
     "iopub.execute_input": "2025-05-22T20:36:51.288628Z",
     "iopub.status.busy": "2025-05-22T20:36:51.288351Z",
     "iopub.status.idle": "2025-05-22T20:36:51.294385Z",
     "shell.execute_reply": "2025-05-22T20:36:51.293376Z",
     "shell.execute_reply.started": "2025-05-22T20:36:51.288605Z"
    },
    "trusted": true
   },
   "outputs": [],
   "source": [
    "acc"
   ]
  },
  {
   "cell_type": "code",
   "execution_count": null,
   "metadata": {
    "execution": {
     "iopub.execute_input": "2025-05-22T20:36:51.295947Z",
     "iopub.status.busy": "2025-05-22T20:36:51.295569Z",
     "iopub.status.idle": "2025-05-22T20:36:51.31492Z",
     "shell.execute_reply": "2025-05-22T20:36:51.313892Z",
     "shell.execute_reply.started": "2025-05-22T20:36:51.29591Z"
    },
    "trusted": true
   },
   "outputs": [],
   "source": [
    "# Lets check model performances using accuracy, precision, recall, and F1-score"
   ]
  },
  {
   "cell_type": "code",
   "execution_count": null,
   "metadata": {
    "execution": {
     "iopub.execute_input": "2025-10-07T14:01:22.724819Z",
     "iopub.status.busy": "2025-10-07T14:01:22.724413Z",
     "iopub.status.idle": "2025-10-07T14:01:22.729628Z",
     "shell.execute_reply": "2025-10-07T14:01:22.728605Z",
     "shell.execute_reply.started": "2025-10-07T14:01:22.724789Z"
    },
    "trusted": true
   },
   "outputs": [],
   "source": [
    "from sklearn.metrics import (\n",
    "    classification_report, \n",
    "    confusion_matrix, \n",
    "    ConfusionMatrixDisplay, \n",
    "    roc_auc_score, \n",
    "    RocCurveDisplay, \n",
    "    precision_recall_curve, \n",
    "    PrecisionRecallDisplay\n",
    ")\n",
    "import matplotlib.pyplot as plt\n",
    "import seaborn as sns\n",
    "import numpy as np"
   ]
  },
  {
   "cell_type": "code",
   "execution_count": null,
   "metadata": {
    "execution": {
     "iopub.execute_input": "2025-10-07T14:01:25.023460Z",
     "iopub.status.busy": "2025-10-07T14:01:25.023095Z",
     "iopub.status.idle": "2025-10-07T14:01:25.030471Z",
     "shell.execute_reply": "2025-10-07T14:01:25.029232Z",
     "shell.execute_reply.started": "2025-10-07T14:01:25.023434Z"
    },
    "trusted": true
   },
   "outputs": [],
   "source": [
    "def evaluate_model(model, X_test, y_test, model_name=\"Model\"):\n",
    "    y_pred = model.predict(X_test)\n",
    "    y_prob = model.predict_proba(X_test)[:, 1]\n",
    "\n",
    "    # Classification Report\n",
    "    print(f\"--------- {model_name} Classification Report ------ \\n\\n\")\n",
    "    print(classification_report(y_test, y_pred))\n",
    "\n",
    "    # Confusion Matrix\n",
    "    cm = confusion_matrix(y_test, y_pred)\n",
    "    disp = ConfusionMatrixDisplay(confusion_matrix=cm)\n",
    "    disp.plot(cmap='Blues')\n",
    "    plt.title(f\"{model_name} - Confusion Matrix\")\n",
    "    plt.show()\n",
    "\n",
    "    # ROC Curve\n",
    "    roc_auc = roc_auc_score(y_test, y_prob)\n",
    "    RocCurveDisplay.from_predictions(y_test, y_prob)\n",
    "    plt.title(f\"{model_name} - ROC Curve (AUC = {roc_auc:.2f})\")\n",
    "    plt.show()\n",
    "\n",
    "    # Precision-Recall Curve\n",
    "    precision, recall, _ = precision_recall_curve(y_test, y_prob)\n",
    "    PrecisionRecallDisplay(precision=precision, recall=recall).plot()\n",
    "    plt.title(f\"{model_name} - Precision-Recall Curve\")\n",
    "    plt.show()\n"
   ]
  },
  {
   "cell_type": "code",
   "execution_count": null,
   "metadata": {
    "execution": {
     "iopub.execute_input": "2025-05-22T20:36:51.352541Z",
     "iopub.status.busy": "2025-05-22T20:36:51.352106Z",
     "iopub.status.idle": "2025-05-22T20:36:52.171408Z",
     "shell.execute_reply": "2025-05-22T20:36:52.170403Z",
     "shell.execute_reply.started": "2025-05-22T20:36:51.352502Z"
    },
    "trusted": true
   },
   "outputs": [],
   "source": [
    "evaluate_model(RF, X_test, Y_test, model_name=\"Random Forest\")\n"
   ]
  },
  {
   "cell_type": "code",
   "execution_count": null,
   "metadata": {
    "execution": {
     "iopub.execute_input": "2025-05-22T20:36:52.172625Z",
     "iopub.status.busy": "2025-05-22T20:36:52.172345Z",
     "iopub.status.idle": "2025-05-22T20:36:52.427929Z",
     "shell.execute_reply": "2025-05-22T20:36:52.426804Z",
     "shell.execute_reply.started": "2025-05-22T20:36:52.1726Z"
    },
    "trusted": true
   },
   "outputs": [],
   "source": [
    "importances = RF.feature_importances_\n",
    "feature_names = X.columns\n",
    "\n",
    "# Create a DataFrame\n",
    "feature_imp_df = pd.DataFrame({\n",
    "    'Feature': feature_names,\n",
    "    'Importance': importances\n",
    "}).sort_values(by='Importance', ascending=False)\n",
    "\n",
    "# Plot\n",
    "plt.figure(figsize=(8, 5))\n",
    "sns.barplot(x='Importance', y='Feature', data=feature_imp_df, palette='viridis')\n",
    "plt.title('Feature Importance - Random Forest')\n",
    "plt.tight_layout()\n",
    "plt.show()"
   ]
  }
 ],
 "metadata": {
  "kaggle": {
   "accelerator": "none",
   "dataSources": [
    {
     "datasetId": 36672,
     "sourceId": 55876,
     "sourceType": "datasetVersion"
    },
    {
     "datasetId": 38921,
     "sourceId": 59293,
     "sourceType": "datasetVersion"
    },
    {
     "datasetId": 397724,
     "sourceId": 764229,
     "sourceType": "datasetVersion"
    },
    {
     "datasetId": 1016769,
     "sourceId": 1714528,
     "sourceType": "datasetVersion"
    },
    {
     "datasetId": 1697740,
     "sourceId": 2781015,
     "sourceType": "datasetVersion"
    },
    {
     "datasetId": 2609801,
     "sourceId": 4458097,
     "sourceType": "datasetVersion"
    },
    {
     "datasetId": 2613005,
     "sourceId": 4464096,
     "sourceType": "datasetVersion"
    },
    {
     "datasetId": 2702571,
     "sourceId": 4652143,
     "sourceType": "datasetVersion"
    },
    {
     "datasetId": 2969988,
     "sourceId": 5117973,
     "sourceType": "datasetVersion"
    },
    {
     "datasetId": 3272725,
     "sourceId": 5691967,
     "sourceType": "datasetVersion"
    },
    {
     "datasetId": 3304815,
     "sourceId": 5764529,
     "sourceType": "datasetVersion"
    },
    {
     "datasetId": 4259898,
     "sourceId": 7339249,
     "sourceType": "datasetVersion"
    },
    {
     "datasetId": 4508157,
     "sourceId": 7718532,
     "sourceType": "datasetVersion"
    },
    {
     "datasetId": 1412299,
     "sourceId": 8684322,
     "sourceType": "datasetVersion"
    },
    {
     "datasetId": 5280683,
     "sourceId": 8784285,
     "sourceType": "datasetVersion"
    },
    {
     "datasetId": 5417795,
     "sourceId": 8994668,
     "sourceType": "datasetVersion"
    }
   ],
   "dockerImageVersionId": 30918,
   "isGpuEnabled": false,
   "isInternetEnabled": true,
   "language": "python",
   "sourceType": "notebook"
  },
  "kernelspec": {
   "display_name": "Python 3",
   "language": "python",
   "name": "python3"
  },
  "language_info": {
   "codemirror_mode": {
    "name": "ipython",
    "version": 3
   },
   "file_extension": ".py",
   "mimetype": "text/x-python",
   "name": "python",
   "nbconvert_exporter": "python",
   "pygments_lexer": "ipython3",
   "version": "3.10.12"
  }
 },
 "nbformat": 4,
 "nbformat_minor": 4
}
